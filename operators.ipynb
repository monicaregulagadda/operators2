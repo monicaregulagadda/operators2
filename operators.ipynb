{
 "cells": [
  {
   "cell_type": "code",
   "execution_count": 1,
   "id": "e81418fa-e02c-43ca-81b9-5301cc5e7ffd",
   "metadata": {},
   "outputs": [
    {
     "name": "stdout",
     "output_type": "stream",
     "text": [
      "8\n"
     ]
    }
   ],
   "source": [
    "# define a variable integer, add two integers using '+' operator\n",
    "integer = 5 + 3\n",
    "# print integer variable\n",
    "print(integer)"
   ]
  },
  {
   "cell_type": "code",
   "execution_count": 3,
   "id": "dd06a86a-b0c4-41a3-991e-8efd7202cac2",
   "metadata": {},
   "outputs": [
    {
     "name": "stdout",
     "output_type": "stream",
     "text": [
      "HelloWorld!\n"
     ]
    }
   ],
   "source": [
    "# define a variable string, add two strings using '+' operator\n",
    "string=\"Hello\" + \"World!\"\n",
    "# print string varibale\n",
    "print(string)"
   ]
  },
  {
   "cell_type": "code",
   "execution_count": null,
   "id": "71e7d292-b3ee-4733-9d44-5e73080b80c9",
   "metadata": {},
   "outputs": [],
   "source": []
  }
 ],
 "metadata": {
  "kernelspec": {
   "display_name": "Python 3 (ipykernel)",
   "language": "python",
   "name": "python3"
  },
  "language_info": {
   "codemirror_mode": {
    "name": "ipython",
    "version": 3
   },
   "file_extension": ".py",
   "mimetype": "text/x-python",
   "name": "python",
   "nbconvert_exporter": "python",
   "pygments_lexer": "ipython3",
   "version": "3.12.5"
  }
 },
 "nbformat": 4,
 "nbformat_minor": 5
}
